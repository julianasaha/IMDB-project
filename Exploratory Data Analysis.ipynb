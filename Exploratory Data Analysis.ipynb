{
 "cells": [
  {
   "cell_type": "markdown",
   "id": "fa1124c3",
   "metadata": {},
   "source": [
    "# EDA part"
   ]
  },
  {
   "cell_type": "code",
   "execution_count": 22,
   "id": "c730b7b7",
   "metadata": {},
   "outputs": [],
   "source": [
    "# Imports\n",
    "import numpy as np\n",
    "import pandas as pd\n",
    "import matplotlib.pyplot as plt\n",
    "import seaborn as sns"
   ]
  },
  {
   "cell_type": "code",
   "execution_count": 23,
   "id": "b88b1364",
   "metadata": {},
   "outputs": [
    {
     "data": {
      "text/html": [
       "<div>\n",
       "<style scoped>\n",
       "    .dataframe tbody tr th:only-of-type {\n",
       "        vertical-align: middle;\n",
       "    }\n",
       "\n",
       "    .dataframe tbody tr th {\n",
       "        vertical-align: top;\n",
       "    }\n",
       "\n",
       "    .dataframe thead th {\n",
       "        text-align: right;\n",
       "    }\n",
       "</style>\n",
       "<table border=\"1\" class=\"dataframe\">\n",
       "  <thead>\n",
       "    <tr style=\"text-align: right;\">\n",
       "      <th></th>\n",
       "      <th>imdb_id</th>\n",
       "      <th>adult</th>\n",
       "      <th>backdrop_path</th>\n",
       "      <th>belongs_to_collection</th>\n",
       "      <th>budget</th>\n",
       "      <th>genres</th>\n",
       "      <th>homepage</th>\n",
       "      <th>id</th>\n",
       "      <th>original_language</th>\n",
       "      <th>original_title</th>\n",
       "      <th>...</th>\n",
       "      <th>revenue</th>\n",
       "      <th>runtime</th>\n",
       "      <th>spoken_languages</th>\n",
       "      <th>status</th>\n",
       "      <th>tagline</th>\n",
       "      <th>title</th>\n",
       "      <th>video</th>\n",
       "      <th>vote_average</th>\n",
       "      <th>vote_count</th>\n",
       "      <th>certification</th>\n",
       "    </tr>\n",
       "  </thead>\n",
       "  <tbody>\n",
       "    <tr>\n",
       "      <th>0</th>\n",
       "      <td>0</td>\n",
       "      <td>NaN</td>\n",
       "      <td>NaN</td>\n",
       "      <td>NaN</td>\n",
       "      <td>NaN</td>\n",
       "      <td>NaN</td>\n",
       "      <td>NaN</td>\n",
       "      <td>NaN</td>\n",
       "      <td>NaN</td>\n",
       "      <td>NaN</td>\n",
       "      <td>...</td>\n",
       "      <td>NaN</td>\n",
       "      <td>NaN</td>\n",
       "      <td>NaN</td>\n",
       "      <td>NaN</td>\n",
       "      <td>NaN</td>\n",
       "      <td>NaN</td>\n",
       "      <td>NaN</td>\n",
       "      <td>NaN</td>\n",
       "      <td>NaN</td>\n",
       "      <td>NaN</td>\n",
       "    </tr>\n",
       "    <tr>\n",
       "      <th>1</th>\n",
       "      <td>tt0113026</td>\n",
       "      <td>0.0</td>\n",
       "      <td>/vMFs7nw6P0bIV1jDsQpxAieAVnH.jpg</td>\n",
       "      <td>NaN</td>\n",
       "      <td>10000000.0</td>\n",
       "      <td>[{'id': 35, 'name': 'Comedy'}, {'id': 10402, '...</td>\n",
       "      <td>NaN</td>\n",
       "      <td>62127.0</td>\n",
       "      <td>en</td>\n",
       "      <td>The Fantasticks</td>\n",
       "      <td>...</td>\n",
       "      <td>0.0</td>\n",
       "      <td>86.0</td>\n",
       "      <td>[{'english_name': 'English', 'iso_639_1': 'en'...</td>\n",
       "      <td>Released</td>\n",
       "      <td>Try to remember the first time magic happened</td>\n",
       "      <td>The Fantasticks</td>\n",
       "      <td>0.0</td>\n",
       "      <td>5.5</td>\n",
       "      <td>22.0</td>\n",
       "      <td>NaN</td>\n",
       "    </tr>\n",
       "  </tbody>\n",
       "</table>\n",
       "<p>2 rows × 26 columns</p>\n",
       "</div>"
      ],
      "text/plain": [
       "     imdb_id  adult                     backdrop_path belongs_to_collection  \\\n",
       "0          0    NaN                               NaN                   NaN   \n",
       "1  tt0113026    0.0  /vMFs7nw6P0bIV1jDsQpxAieAVnH.jpg                   NaN   \n",
       "\n",
       "       budget                                             genres homepage  \\\n",
       "0         NaN                                                NaN      NaN   \n",
       "1  10000000.0  [{'id': 35, 'name': 'Comedy'}, {'id': 10402, '...      NaN   \n",
       "\n",
       "        id original_language   original_title  ... revenue  runtime  \\\n",
       "0      NaN               NaN              NaN  ...     NaN      NaN   \n",
       "1  62127.0                en  The Fantasticks  ...     0.0     86.0   \n",
       "\n",
       "                                    spoken_languages    status  \\\n",
       "0                                                NaN       NaN   \n",
       "1  [{'english_name': 'English', 'iso_639_1': 'en'...  Released   \n",
       "\n",
       "                                         tagline            title  video  \\\n",
       "0                                            NaN              NaN    NaN   \n",
       "1  Try to remember the first time magic happened  The Fantasticks    0.0   \n",
       "\n",
       "   vote_average vote_count certification  \n",
       "0           NaN        NaN           NaN  \n",
       "1           5.5       22.0           NaN  \n",
       "\n",
       "[2 rows x 26 columns]"
      ]
     },
     "execution_count": 23,
     "metadata": {},
     "output_type": "execute_result"
    }
   ],
   "source": [
    "# Load in your csv.gz's of results for each year extracted\n",
    "yr00 = pd.read_csv(\"Data/final_tmdb_data_2000.csv.gz\", low_memory = False)\n",
    "yr00.head(2)"
   ]
  },
  {
   "cell_type": "code",
   "execution_count": 24,
   "id": "fd7a0a33",
   "metadata": {},
   "outputs": [
    {
     "data": {
      "text/html": [
       "<div>\n",
       "<style scoped>\n",
       "    .dataframe tbody tr th:only-of-type {\n",
       "        vertical-align: middle;\n",
       "    }\n",
       "\n",
       "    .dataframe tbody tr th {\n",
       "        vertical-align: top;\n",
       "    }\n",
       "\n",
       "    .dataframe thead th {\n",
       "        text-align: right;\n",
       "    }\n",
       "</style>\n",
       "<table border=\"1\" class=\"dataframe\">\n",
       "  <thead>\n",
       "    <tr style=\"text-align: right;\">\n",
       "      <th></th>\n",
       "      <th>imdb_id</th>\n",
       "      <th>adult</th>\n",
       "      <th>backdrop_path</th>\n",
       "      <th>belongs_to_collection</th>\n",
       "      <th>budget</th>\n",
       "      <th>genres</th>\n",
       "      <th>homepage</th>\n",
       "      <th>id</th>\n",
       "      <th>original_language</th>\n",
       "      <th>original_title</th>\n",
       "      <th>...</th>\n",
       "      <th>revenue</th>\n",
       "      <th>runtime</th>\n",
       "      <th>spoken_languages</th>\n",
       "      <th>status</th>\n",
       "      <th>tagline</th>\n",
       "      <th>title</th>\n",
       "      <th>video</th>\n",
       "      <th>vote_average</th>\n",
       "      <th>vote_count</th>\n",
       "      <th>certification</th>\n",
       "    </tr>\n",
       "  </thead>\n",
       "  <tbody>\n",
       "    <tr>\n",
       "      <th>0</th>\n",
       "      <td>0</td>\n",
       "      <td>NaN</td>\n",
       "      <td>NaN</td>\n",
       "      <td>NaN</td>\n",
       "      <td>NaN</td>\n",
       "      <td>NaN</td>\n",
       "      <td>NaN</td>\n",
       "      <td>NaN</td>\n",
       "      <td>NaN</td>\n",
       "      <td>NaN</td>\n",
       "      <td>...</td>\n",
       "      <td>NaN</td>\n",
       "      <td>NaN</td>\n",
       "      <td>NaN</td>\n",
       "      <td>NaN</td>\n",
       "      <td>NaN</td>\n",
       "      <td>NaN</td>\n",
       "      <td>NaN</td>\n",
       "      <td>NaN</td>\n",
       "      <td>NaN</td>\n",
       "      <td>NaN</td>\n",
       "    </tr>\n",
       "    <tr>\n",
       "      <th>1</th>\n",
       "      <td>tt0035423</td>\n",
       "      <td>0.0</td>\n",
       "      <td>/ab5yL8zgRotrICzGbEl10z24N71.jpg</td>\n",
       "      <td>NaN</td>\n",
       "      <td>48000000.0</td>\n",
       "      <td>[{'id': 35, 'name': 'Comedy'}, {'id': 14, 'nam...</td>\n",
       "      <td>NaN</td>\n",
       "      <td>11232.0</td>\n",
       "      <td>en</td>\n",
       "      <td>Kate &amp; Leopold</td>\n",
       "      <td>...</td>\n",
       "      <td>76019048.0</td>\n",
       "      <td>118.0</td>\n",
       "      <td>[{'english_name': 'English', 'iso_639_1': 'en'...</td>\n",
       "      <td>Released</td>\n",
       "      <td>If they lived in the same century they'd be pe...</td>\n",
       "      <td>Kate &amp; Leopold</td>\n",
       "      <td>0.0</td>\n",
       "      <td>6.3</td>\n",
       "      <td>1137.0</td>\n",
       "      <td>PG-13</td>\n",
       "    </tr>\n",
       "  </tbody>\n",
       "</table>\n",
       "<p>2 rows × 26 columns</p>\n",
       "</div>"
      ],
      "text/plain": [
       "     imdb_id  adult                     backdrop_path belongs_to_collection  \\\n",
       "0          0    NaN                               NaN                   NaN   \n",
       "1  tt0035423    0.0  /ab5yL8zgRotrICzGbEl10z24N71.jpg                   NaN   \n",
       "\n",
       "       budget                                             genres homepage  \\\n",
       "0         NaN                                                NaN      NaN   \n",
       "1  48000000.0  [{'id': 35, 'name': 'Comedy'}, {'id': 14, 'nam...      NaN   \n",
       "\n",
       "        id original_language  original_title  ...     revenue  runtime  \\\n",
       "0      NaN               NaN             NaN  ...         NaN      NaN   \n",
       "1  11232.0                en  Kate & Leopold  ...  76019048.0    118.0   \n",
       "\n",
       "                                    spoken_languages    status  \\\n",
       "0                                                NaN       NaN   \n",
       "1  [{'english_name': 'English', 'iso_639_1': 'en'...  Released   \n",
       "\n",
       "                                             tagline           title  video  \\\n",
       "0                                                NaN             NaN    NaN   \n",
       "1  If they lived in the same century they'd be pe...  Kate & Leopold    0.0   \n",
       "\n",
       "   vote_average vote_count certification  \n",
       "0           NaN        NaN           NaN  \n",
       "1           6.3     1137.0         PG-13  \n",
       "\n",
       "[2 rows x 26 columns]"
      ]
     },
     "execution_count": 24,
     "metadata": {},
     "output_type": "execute_result"
    }
   ],
   "source": [
    "# Load in your csv.gz's of results for each year extracted\n",
    "yr01 = pd.read_csv(\"Data/final_tmdb_data_2001.csv.gz\", low_memory = False)\n",
    "yr01.head(2)"
   ]
  },
  {
   "cell_type": "code",
   "execution_count": 25,
   "id": "6383cb73",
   "metadata": {},
   "outputs": [],
   "source": [
    "# concatenate the dataframes pages\n",
    "df_years = pd.concat([yr01, yr00],\n",
    "                      ignore_index=True)"
   ]
  },
  {
   "cell_type": "code",
   "execution_count": 26,
   "id": "48bbdce7",
   "metadata": {},
   "outputs": [],
   "source": [
    "## Save current dataframe to file.\n",
    "df_years.to_csv(\"Data/tmdb_results_combined.csv.gz\",compression='gzip',index=False)"
   ]
  },
  {
   "cell_type": "code",
   "execution_count": 27,
   "id": "d104a09d",
   "metadata": {},
   "outputs": [
    {
     "name": "stdout",
     "output_type": "stream",
     "text": [
      "<class 'pandas.core.frame.DataFrame'>\n",
      "RangeIndex: 2493 entries, 0 to 2492\n",
      "Data columns (total 26 columns):\n",
      " #   Column                 Non-Null Count  Dtype  \n",
      "---  ------                 --------------  -----  \n",
      " 0   imdb_id                2493 non-null   object \n",
      " 1   adult                  2491 non-null   float64\n",
      " 2   backdrop_path          1290 non-null   object \n",
      " 3   belongs_to_collection  197 non-null    object \n",
      " 4   budget                 2491 non-null   float64\n",
      " 5   genres                 2491 non-null   object \n",
      " 6   homepage               174 non-null    object \n",
      " 7   id                     2491 non-null   float64\n",
      " 8   original_language      2491 non-null   object \n",
      " 9   original_title         2491 non-null   object \n",
      " 10  overview               2439 non-null   object \n",
      " 11  popularity             2491 non-null   float64\n",
      " 12  poster_path            2197 non-null   object \n",
      " 13  production_companies   2491 non-null   object \n",
      " 14  production_countries   2491 non-null   object \n",
      " 15  release_date           2472 non-null   object \n",
      " 16  revenue                2491 non-null   float64\n",
      " 17  runtime                2491 non-null   float64\n",
      " 18  spoken_languages       2491 non-null   object \n",
      " 19  status                 2491 non-null   object \n",
      " 20  tagline                1041 non-null   object \n",
      " 21  title                  2491 non-null   object \n",
      " 22  video                  2491 non-null   float64\n",
      " 23  vote_average           2491 non-null   float64\n",
      " 24  vote_count             2491 non-null   float64\n",
      " 25  certification          792 non-null    object \n",
      "dtypes: float64(9), object(17)\n",
      "memory usage: 506.5+ KB\n"
     ]
    }
   ],
   "source": [
    "df_years.info()"
   ]
  },
  {
   "cell_type": "markdown",
   "id": "4ef52baf",
   "metadata": {},
   "source": [
    "How many movies had at least some valid financial information (values > 0 for budget OR revenue)?"
   ]
  },
  {
   "cell_type": "code",
   "execution_count": 28,
   "id": "253031bc",
   "metadata": {},
   "outputs": [],
   "source": [
    "budget_filter= df_years['budget']> 0\n",
    "revenue_filter= df_years['revenue'] > 0"
   ]
  },
  {
   "cell_type": "code",
   "execution_count": 29,
   "id": "d372e76d",
   "metadata": {},
   "outputs": [
    {
     "name": "stdout",
     "output_type": "stream",
     "text": [
      "<class 'pandas.core.frame.DataFrame'>\n",
      "Int64Index: 619 entries, 1 to 2491\n",
      "Data columns (total 26 columns):\n",
      " #   Column                 Non-Null Count  Dtype  \n",
      "---  ------                 --------------  -----  \n",
      " 0   imdb_id                619 non-null    object \n",
      " 1   adult                  619 non-null    float64\n",
      " 2   backdrop_path          517 non-null    object \n",
      " 3   belongs_to_collection  102 non-null    object \n",
      " 4   budget                 619 non-null    float64\n",
      " 5   genres                 619 non-null    object \n",
      " 6   homepage               80 non-null     object \n",
      " 7   id                     619 non-null    float64\n",
      " 8   original_language      619 non-null    object \n",
      " 9   original_title         619 non-null    object \n",
      " 10  overview               616 non-null    object \n",
      " 11  popularity             619 non-null    float64\n",
      " 12  poster_path            598 non-null    object \n",
      " 13  production_companies   619 non-null    object \n",
      " 14  production_countries   619 non-null    object \n",
      " 15  release_date           619 non-null    object \n",
      " 16  revenue                619 non-null    float64\n",
      " 17  runtime                619 non-null    float64\n",
      " 18  spoken_languages       619 non-null    object \n",
      " 19  status                 619 non-null    object \n",
      " 20  tagline                476 non-null    object \n",
      " 21  title                  619 non-null    object \n",
      " 22  video                  619 non-null    float64\n",
      " 23  vote_average           619 non-null    float64\n",
      " 24  vote_count             619 non-null    float64\n",
      " 25  certification          423 non-null    object \n",
      "dtypes: float64(9), object(17)\n",
      "memory usage: 130.6+ KB\n"
     ]
    }
   ],
   "source": [
    "# Create a budget and revenue filters that have values greater than 0\n",
    "df_years =df_years[(df_years['budget'] > 0) | (df_years['revenue'] > 0)]\n",
    "df_years.info()\n",
    "# Create a new dataframe for EDA\n",
    "#df = df_years.loc[budget_filter & revenue_filter, :]\n",
    "#df.info()"
   ]
  },
  {
   "cell_type": "markdown",
   "id": "4210c958",
   "metadata": {},
   "source": [
    "616 total movies that have at least some valid financial information."
   ]
  },
  {
   "cell_type": "code",
   "execution_count": 30,
   "id": "f2972252",
   "metadata": {},
   "outputs": [
    {
     "data": {
      "image/png": "[encoded data removed]",
      "text/plain": [
       "<Figure size 432x288 with 1 Axes>"
      ]
     },
     "metadata": {
      "needs_background": "light"
     },
     "output_type": "display_data"
    }
   ],
   "source": [
    "# Create a histogram for the count for budget for movies >0\n",
    "df_years.loc[budget_filter, 'budget'].hist(bins = 30,\n",
    "                                   edgecolor='black')\n",
    "plt.xticks(rotation = 45)\n",
    "plt.ticklabel_format(useOffset=False, style='plain')\n",
    "plt.xlabel(\"Budget\")\n",
    "plt.ylabel('Count');\n",
    "plt.title('Budget Count');"
   ]
  },
  {
   "cell_type": "code",
   "execution_count": 40,
   "id": "f83d5b8d",
   "metadata": {},
   "outputs": [
    {
     "data": {
      "image/png": "[encoded data removed]",
      "text/plain": [
       "<Figure size 432x288 with 1 Axes>"
      ]
     },
     "metadata": {},
     "output_type": "display_data"
    }
   ],
   "source": [
    "# Create a histogram for the count for revenue for movies >0\n",
    "df_years.loc[revenue_filter, 'revenue'].hist(bins = 30,\n",
    "                                   edgecolor='black')\n",
    "plt.xticks(rotation = 45)\n",
    "plt.ticklabel_format(useOffset=False, style='plain')\n",
    "plt.xlabel(\"Revenue\")\n",
    "plt.ylabel('Count')\n",
    "plt.title('Revenue Count');"
   ]
  },
  {
   "cell_type": "markdown",
   "id": "354077fc",
   "metadata": {},
   "source": [
    "How many movies are there in each of the certification categories (G/PG/PG-13/R)?"
   ]
  },
  {
   "cell_type": "code",
   "execution_count": 34,
   "id": "3d7a8604",
   "metadata": {},
   "outputs": [
    {
     "data": {
      "text/plain": [
       "R        227\n",
       "PG-13    130\n",
       "PG        35\n",
       "NR        17\n",
       "G         14\n",
       "Name: certification, dtype: int64"
      ]
     },
     "execution_count": 34,
     "metadata": {},
     "output_type": "execute_result"
    }
   ],
   "source": [
    "df_years['certification'].value_counts()"
   ]
  },
  {
   "cell_type": "code",
   "execution_count": 39,
   "id": "e8dcb40b",
   "metadata": {},
   "outputs": [
    {
     "data": {
      "image/png": "[encoded data removed]",
      "text/plain": [
       "<Figure size 432x288 with 1 Axes>"
      ]
     },
     "metadata": {},
     "output_type": "display_data"
    }
   ],
   "source": [
    "# Graph a histogram using seaborn\n",
    "sns.histplot(data=df_years, x='certification', palette='Set2');\n",
    "sns.despine()"
   ]
  },
  {
   "cell_type": "markdown",
   "id": "2cbe7cd0",
   "metadata": {},
   "source": [
    "What is the average revenue per certification category?"
   ]
  },
  {
   "cell_type": "code",
   "execution_count": 38,
   "id": "3f8e429d",
   "metadata": {},
   "outputs": [
    {
     "data": {
      "image/png": "[encoded data removed]",
      "text/plain": [
       "<Figure size 432x288 with 1 Axes>"
      ]
     },
     "metadata": {},
     "output_type": "display_data"
    }
   ],
   "source": [
    "sns.barplot(data=df_years, x='certification',y='revenue', ci=None)\n",
    "plt.title('Average Revenue per Certification')\n",
    "sns.set_style('darkgrid')\n",
    "sns.set_palette('Set2')\n",
    "sns.despine()"
   ]
  },
  {
   "cell_type": "markdown",
   "id": "fcefc713",
   "metadata": {},
   "source": [
    "What is the average budget per certification category?"
   ]
  },
  {
   "cell_type": "code",
   "execution_count": 37,
   "id": "9446cacb",
   "metadata": {},
   "outputs": [
    {
     "data": {
      "image/png": "[encoded data removed]",
      "text/plain": [
       "<Figure size 432x288 with 1 Axes>"
      ]
     },
     "metadata": {},
     "output_type": "display_data"
    }
   ],
   "source": [
    "sns.barplot(data=df_years, x='certification',y='budget', ci=None)\n",
    "plt.title('Average Budget per Certification ')\n",
    "sns.set_style('darkgrid')\n",
    "sns.set_palette('Set2')\n",
    "sns.despine()"
   ]
  }
 ],
 "metadata": {
  "kernelspec": {
   "display_name": "Python (dojo-env)",
   "language": "python",
   "name": "dojo-env"
  },
  "language_info": {
   "codemirror_mode": {
    "name": "ipython",
    "version": 3
   },
   "file_extension": ".py",
   "mimetype": "text/x-python",
   "name": "python",
   "nbconvert_exporter": "python",
   "pygments_lexer": "ipython3",
   "version": "3.8.13"
  },
  "toc": {
   "base_numbering": 1,
   "nav_menu": {},
   "number_sections": false,
   "sideBar": true,
   "skip_h1_title": false,
   "title_cell": "Table of Contents",
   "title_sidebar": "Contents",
   "toc_cell": false,
   "toc_position": {},
   "toc_section_display": true,
   "toc_window_display": false
  }
 },
 "nbformat": 4,
 "nbformat_minor": 5
}
