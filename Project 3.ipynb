{
 "cells": [
  {
   "cell_type": "markdown",
   "id": "06d93fea",
   "metadata": {},
   "source": [
    "# IMDB Project 3\n",
    "- Juliana Sahagun\n",
    "- 08/17/22"
   ]
  },
  {
   "cell_type": "code",
   "execution_count": 1,
   "id": "883d80a8",
   "metadata": {},
   "outputs": [],
   "source": [
    "# Import libraries\n",
    "import pandas as pd\n",
    "import numpy as np\n",
    "import json,os,time\n",
    "import tmdbsimple as tmdb\n",
    "from tqdm.notebook import tqdm_notebook\n",
    "# Imports for MySQL Requirements\n",
    "import pymysql\n",
    "from sqlalchemy import create_engine\n",
    "from sqlalchemy_utils import create_database, database_exists\n"
   ]
  },
  {
   "cell_type": "code",
   "execution_count": 2,
   "id": "0aab41d9",
   "metadata": {},
   "outputs": [],
   "source": [
    "# Download files\n",
    "basics_url= \"https://datasets.imdbws.com/title.basics.tsv.gz\"\n",
    "ratings_url= \"https://datasets.imdbws.com/title.basics.tsv.gz\"\n",
    "akas_url= \"https://datasets.imdbws.com/title.akas.tsv.gz\""
   ]
  },
  {
   "cell_type": "code",
   "execution_count": 3,
   "id": "02f5a9b4",
   "metadata": {},
   "outputs": [],
   "source": [
    "# Loading the data\n",
    "df_basics = pd.read_csv(basics_url,sep='\\t', low_memory=False)\n",
    "df_akas= pd.read_csv(akas_url, sep='\\t', low_memory=False)\n",
    "df_ratings= pd.read_csv(ratings_url,sep='\\t', low_memory=False)"
   ]
  },
  {
   "cell_type": "markdown",
   "id": "c028d71c",
   "metadata": {},
   "source": [
    "# Part 1"
   ]
  },
  {
   "cell_type": "code",
   "execution_count": 4,
   "id": "58fc7cad",
   "metadata": {},
   "outputs": [
    {
     "data": {
      "text/html": [
       "<div>\n",
       "<style scoped>\n",
       "    .dataframe tbody tr th:only-of-type {\n",
       "        vertical-align: middle;\n",
       "    }\n",
       "\n",
       "    .dataframe tbody tr th {\n",
       "        vertical-align: top;\n",
       "    }\n",
       "\n",
       "    .dataframe thead th {\n",
       "        text-align: right;\n",
       "    }\n",
       "</style>\n",
       "<table border=\"1\" class=\"dataframe\">\n",
       "  <thead>\n",
       "    <tr style=\"text-align: right;\">\n",
       "      <th></th>\n",
       "      <th>tconst</th>\n",
       "      <th>titleType</th>\n",
       "      <th>primaryTitle</th>\n",
       "      <th>originalTitle</th>\n",
       "      <th>isAdult</th>\n",
       "      <th>startYear</th>\n",
       "      <th>endYear</th>\n",
       "      <th>runtimeMinutes</th>\n",
       "      <th>genres</th>\n",
       "    </tr>\n",
       "  </thead>\n",
       "  <tbody>\n",
       "    <tr>\n",
       "      <th>0</th>\n",
       "      <td>tt0000001</td>\n",
       "      <td>short</td>\n",
       "      <td>Carmencita</td>\n",
       "      <td>Carmencita</td>\n",
       "      <td>0</td>\n",
       "      <td>1894</td>\n",
       "      <td>\\N</td>\n",
       "      <td>1</td>\n",
       "      <td>Documentary,Short</td>\n",
       "    </tr>\n",
       "    <tr>\n",
       "      <th>1</th>\n",
       "      <td>tt0000002</td>\n",
       "      <td>short</td>\n",
       "      <td>Le clown et ses chiens</td>\n",
       "      <td>Le clown et ses chiens</td>\n",
       "      <td>0</td>\n",
       "      <td>1892</td>\n",
       "      <td>\\N</td>\n",
       "      <td>5</td>\n",
       "      <td>Animation,Short</td>\n",
       "    </tr>\n",
       "    <tr>\n",
       "      <th>2</th>\n",
       "      <td>tt0000003</td>\n",
       "      <td>short</td>\n",
       "      <td>Pauvre Pierrot</td>\n",
       "      <td>Pauvre Pierrot</td>\n",
       "      <td>0</td>\n",
       "      <td>1892</td>\n",
       "      <td>\\N</td>\n",
       "      <td>4</td>\n",
       "      <td>Animation,Comedy,Romance</td>\n",
       "    </tr>\n",
       "    <tr>\n",
       "      <th>3</th>\n",
       "      <td>tt0000004</td>\n",
       "      <td>short</td>\n",
       "      <td>Un bon bock</td>\n",
       "      <td>Un bon bock</td>\n",
       "      <td>0</td>\n",
       "      <td>1892</td>\n",
       "      <td>\\N</td>\n",
       "      <td>12</td>\n",
       "      <td>Animation,Short</td>\n",
       "    </tr>\n",
       "    <tr>\n",
       "      <th>4</th>\n",
       "      <td>tt0000005</td>\n",
       "      <td>short</td>\n",
       "      <td>Blacksmith Scene</td>\n",
       "      <td>Blacksmith Scene</td>\n",
       "      <td>0</td>\n",
       "      <td>1893</td>\n",
       "      <td>\\N</td>\n",
       "      <td>1</td>\n",
       "      <td>Comedy,Short</td>\n",
       "    </tr>\n",
       "  </tbody>\n",
       "</table>\n",
       "</div>"
      ],
      "text/plain": [
       "      tconst titleType            primaryTitle           originalTitle  \\\n",
       "0  tt0000001     short              Carmencita              Carmencita   \n",
       "1  tt0000002     short  Le clown et ses chiens  Le clown et ses chiens   \n",
       "2  tt0000003     short          Pauvre Pierrot          Pauvre Pierrot   \n",
       "3  tt0000004     short             Un bon bock             Un bon bock   \n",
       "4  tt0000005     short        Blacksmith Scene        Blacksmith Scene   \n",
       "\n",
       "  isAdult startYear endYear runtimeMinutes                    genres  \n",
       "0       0      1894      \\N              1         Documentary,Short  \n",
       "1       0      1892      \\N              5           Animation,Short  \n",
       "2       0      1892      \\N              4  Animation,Comedy,Romance  \n",
       "3       0      1892      \\N             12           Animation,Short  \n",
       "4       0      1893      \\N              1              Comedy,Short  "
      ]
     },
     "execution_count": 4,
     "metadata": {},
     "output_type": "execute_result"
    }
   ],
   "source": [
    "df_basics.head()"
   ]
  },
  {
   "cell_type": "code",
   "execution_count": 5,
   "id": "5c03ced6",
   "metadata": {},
   "outputs": [
    {
     "data": {
      "text/html": [
       "<div>\n",
       "<style scoped>\n",
       "    .dataframe tbody tr th:only-of-type {\n",
       "        vertical-align: middle;\n",
       "    }\n",
       "\n",
       "    .dataframe tbody tr th {\n",
       "        vertical-align: top;\n",
       "    }\n",
       "\n",
       "    .dataframe thead th {\n",
       "        text-align: right;\n",
       "    }\n",
       "</style>\n",
       "<table border=\"1\" class=\"dataframe\">\n",
       "  <thead>\n",
       "    <tr style=\"text-align: right;\">\n",
       "      <th></th>\n",
       "      <th>tconst</th>\n",
       "      <th>titleType</th>\n",
       "      <th>primaryTitle</th>\n",
       "      <th>originalTitle</th>\n",
       "      <th>isAdult</th>\n",
       "      <th>startYear</th>\n",
       "      <th>endYear</th>\n",
       "      <th>runtimeMinutes</th>\n",
       "      <th>genres</th>\n",
       "    </tr>\n",
       "  </thead>\n",
       "  <tbody>\n",
       "    <tr>\n",
       "      <th>0</th>\n",
       "      <td>tt0000001</td>\n",
       "      <td>short</td>\n",
       "      <td>Carmencita</td>\n",
       "      <td>Carmencita</td>\n",
       "      <td>0</td>\n",
       "      <td>1894</td>\n",
       "      <td>\\N</td>\n",
       "      <td>1</td>\n",
       "      <td>Documentary,Short</td>\n",
       "    </tr>\n",
       "    <tr>\n",
       "      <th>1</th>\n",
       "      <td>tt0000002</td>\n",
       "      <td>short</td>\n",
       "      <td>Le clown et ses chiens</td>\n",
       "      <td>Le clown et ses chiens</td>\n",
       "      <td>0</td>\n",
       "      <td>1892</td>\n",
       "      <td>\\N</td>\n",
       "      <td>5</td>\n",
       "      <td>Animation,Short</td>\n",
       "    </tr>\n",
       "    <tr>\n",
       "      <th>2</th>\n",
       "      <td>tt0000003</td>\n",
       "      <td>short</td>\n",
       "      <td>Pauvre Pierrot</td>\n",
       "      <td>Pauvre Pierrot</td>\n",
       "      <td>0</td>\n",
       "      <td>1892</td>\n",
       "      <td>\\N</td>\n",
       "      <td>4</td>\n",
       "      <td>Animation,Comedy,Romance</td>\n",
       "    </tr>\n",
       "    <tr>\n",
       "      <th>3</th>\n",
       "      <td>tt0000004</td>\n",
       "      <td>short</td>\n",
       "      <td>Un bon bock</td>\n",
       "      <td>Un bon bock</td>\n",
       "      <td>0</td>\n",
       "      <td>1892</td>\n",
       "      <td>\\N</td>\n",
       "      <td>12</td>\n",
       "      <td>Animation,Short</td>\n",
       "    </tr>\n",
       "    <tr>\n",
       "      <th>4</th>\n",
       "      <td>tt0000005</td>\n",
       "      <td>short</td>\n",
       "      <td>Blacksmith Scene</td>\n",
       "      <td>Blacksmith Scene</td>\n",
       "      <td>0</td>\n",
       "      <td>1893</td>\n",
       "      <td>\\N</td>\n",
       "      <td>1</td>\n",
       "      <td>Comedy,Short</td>\n",
       "    </tr>\n",
       "  </tbody>\n",
       "</table>\n",
       "</div>"
      ],
      "text/plain": [
       "      tconst titleType            primaryTitle           originalTitle  \\\n",
       "0  tt0000001     short              Carmencita              Carmencita   \n",
       "1  tt0000002     short  Le clown et ses chiens  Le clown et ses chiens   \n",
       "2  tt0000003     short          Pauvre Pierrot          Pauvre Pierrot   \n",
       "3  tt0000004     short             Un bon bock             Un bon bock   \n",
       "4  tt0000005     short        Blacksmith Scene        Blacksmith Scene   \n",
       "\n",
       "  isAdult startYear endYear runtimeMinutes                    genres  \n",
       "0       0      1894      \\N              1         Documentary,Short  \n",
       "1       0      1892      \\N              5           Animation,Short  \n",
       "2       0      1892      \\N              4  Animation,Comedy,Romance  \n",
       "3       0      1892      \\N             12           Animation,Short  \n",
       "4       0      1893      \\N              1              Comedy,Short  "
      ]
     },
     "execution_count": 5,
     "metadata": {},
     "output_type": "execute_result"
    }
   ],
   "source": [
    "df_ratings.head()"
   ]
  },
  {
   "cell_type": "code",
   "execution_count": 6,
   "id": "65d6b32a",
   "metadata": {},
   "outputs": [
    {
     "data": {
      "text/html": [
       "<div>\n",
       "<style scoped>\n",
       "    .dataframe tbody tr th:only-of-type {\n",
       "        vertical-align: middle;\n",
       "    }\n",
       "\n",
       "    .dataframe tbody tr th {\n",
       "        vertical-align: top;\n",
       "    }\n",
       "\n",
       "    .dataframe thead th {\n",
       "        text-align: right;\n",
       "    }\n",
       "</style>\n",
       "<table border=\"1\" class=\"dataframe\">\n",
       "  <thead>\n",
       "    <tr style=\"text-align: right;\">\n",
       "      <th></th>\n",
       "      <th>titleId</th>\n",
       "      <th>ordering</th>\n",
       "      <th>title</th>\n",
       "      <th>region</th>\n",
       "      <th>language</th>\n",
       "      <th>types</th>\n",
       "      <th>attributes</th>\n",
       "      <th>isOriginalTitle</th>\n",
       "    </tr>\n",
       "  </thead>\n",
       "  <tbody>\n",
       "    <tr>\n",
       "      <th>0</th>\n",
       "      <td>tt0000001</td>\n",
       "      <td>1</td>\n",
       "      <td>Карменсіта</td>\n",
       "      <td>UA</td>\n",
       "      <td>\\N</td>\n",
       "      <td>imdbDisplay</td>\n",
       "      <td>\\N</td>\n",
       "      <td>0</td>\n",
       "    </tr>\n",
       "    <tr>\n",
       "      <th>1</th>\n",
       "      <td>tt0000001</td>\n",
       "      <td>2</td>\n",
       "      <td>Carmencita</td>\n",
       "      <td>DE</td>\n",
       "      <td>\\N</td>\n",
       "      <td>\\N</td>\n",
       "      <td>literal title</td>\n",
       "      <td>0</td>\n",
       "    </tr>\n",
       "    <tr>\n",
       "      <th>2</th>\n",
       "      <td>tt0000001</td>\n",
       "      <td>3</td>\n",
       "      <td>Carmencita - spanyol tánc</td>\n",
       "      <td>HU</td>\n",
       "      <td>\\N</td>\n",
       "      <td>imdbDisplay</td>\n",
       "      <td>\\N</td>\n",
       "      <td>0</td>\n",
       "    </tr>\n",
       "    <tr>\n",
       "      <th>3</th>\n",
       "      <td>tt0000001</td>\n",
       "      <td>4</td>\n",
       "      <td>Καρμενσίτα</td>\n",
       "      <td>GR</td>\n",
       "      <td>\\N</td>\n",
       "      <td>imdbDisplay</td>\n",
       "      <td>\\N</td>\n",
       "      <td>0</td>\n",
       "    </tr>\n",
       "    <tr>\n",
       "      <th>4</th>\n",
       "      <td>tt0000001</td>\n",
       "      <td>5</td>\n",
       "      <td>Карменсита</td>\n",
       "      <td>RU</td>\n",
       "      <td>\\N</td>\n",
       "      <td>imdbDisplay</td>\n",
       "      <td>\\N</td>\n",
       "      <td>0</td>\n",
       "    </tr>\n",
       "  </tbody>\n",
       "</table>\n",
       "</div>"
      ],
      "text/plain": [
       "     titleId  ordering                      title region language  \\\n",
       "0  tt0000001         1                 Карменсіта     UA       \\N   \n",
       "1  tt0000001         2                 Carmencita     DE       \\N   \n",
       "2  tt0000001         3  Carmencita - spanyol tánc     HU       \\N   \n",
       "3  tt0000001         4                 Καρμενσίτα     GR       \\N   \n",
       "4  tt0000001         5                 Карменсита     RU       \\N   \n",
       "\n",
       "         types     attributes isOriginalTitle  \n",
       "0  imdbDisplay             \\N               0  \n",
       "1           \\N  literal title               0  \n",
       "2  imdbDisplay             \\N               0  \n",
       "3  imdbDisplay             \\N               0  \n",
       "4  imdbDisplay             \\N               0  "
      ]
     },
     "execution_count": 6,
     "metadata": {},
     "output_type": "execute_result"
    }
   ],
   "source": [
    "df_akas.head()"
   ]
  },
  {
   "cell_type": "markdown",
   "id": "87aea619",
   "metadata": {},
   "source": [
    "## Cleaning/Filtering"
   ]
  },
  {
   "cell_type": "markdown",
   "id": "7a374afc",
   "metadata": {},
   "source": [
    "Basics Preprocessing"
   ]
  },
  {
   "cell_type": "code",
   "execution_count": 7,
   "id": "d74a7597",
   "metadata": {},
   "outputs": [],
   "source": [
    "# Replace \"\\N\" with np.nan\n",
    "df_basics = df_basics.replace({'\\\\N':np.nan})"
   ]
  },
  {
   "cell_type": "code",
   "execution_count": 8,
   "id": "0c20cff5",
   "metadata": {},
   "outputs": [],
   "source": [
    "# Remove movies having missing values for runtimeMinutes and genre\n",
    "df_basics= df_basics.dropna(subset=['runtimeMinutes','genres','startYear'])"
   ]
  },
  {
   "cell_type": "markdown",
   "id": "4462d22f",
   "metadata": {},
   "source": [
    "startYear also has null values that should be removed because it interferes with keep all movies with the start year 2000-2022"
   ]
  },
  {
   "cell_type": "code",
   "execution_count": 9,
   "id": "60b1aef0",
   "metadata": {},
   "outputs": [],
   "source": [
    "# Include only full-length movies (titleType = \"movie\")\n",
    "df_basics = df_basics.loc[df_basics['titleType']=='movie']"
   ]
  },
  {
   "cell_type": "code",
   "execution_count": 10,
   "id": "a1b3e85e",
   "metadata": {},
   "outputs": [],
   "source": [
    "# Eliminate movies that include \"Documentary\" in genre\n",
    "doc= df_basics['genres'].str.contains('documentary', case=False)\n",
    "df_basics = df_basics[~doc]"
   ]
  },
  {
   "cell_type": "code",
   "execution_count": 16,
   "id": "9481afb2",
   "metadata": {},
   "outputs": [
    {
     "ename": "TypeError",
     "evalue": "'>=' not supported between instances of 'str' and 'int'",
     "output_type": "error",
     "traceback": [
      "\u001b[1;31m---------------------------------------------------------------------------\u001b[0m",
      "\u001b[1;31mTypeError\u001b[0m                                 Traceback (most recent call last)",
      "Input \u001b[1;32mIn [16]\u001b[0m, in \u001b[0;36m<cell line: 2>\u001b[1;34m()\u001b[0m\n\u001b[0;32m      1\u001b[0m \u001b[38;5;66;03m# Keep startYear 2000-2022\u001b[39;00m\n\u001b[1;32m----> 2\u001b[0m df_basics\u001b[38;5;241m=\u001b[39m df_basics\u001b[38;5;241m.\u001b[39mloc[(\u001b[43mdf_basics\u001b[49m\u001b[43m[\u001b[49m\u001b[38;5;124;43m'\u001b[39;49m\u001b[38;5;124;43mstartYear\u001b[39;49m\u001b[38;5;124;43m'\u001b[39;49m\u001b[43m]\u001b[49m\u001b[43m \u001b[49m\u001b[38;5;241;43m>\u001b[39;49m\u001b[38;5;241;43m=\u001b[39;49m\u001b[38;5;241;43m2000\u001b[39;49m) \u001b[38;5;241m&\u001b[39m (df_basics[\u001b[38;5;124m'\u001b[39m\u001b[38;5;124mstartYear\u001b[39m\u001b[38;5;124m'\u001b[39m] \u001b[38;5;241m<\u001b[39m\u001b[38;5;241m=\u001b[39m\u001b[38;5;241m2021\u001b[39m)]\n",
      "File \u001b[1;32m~\\anaconda3\\envs\\dojo-env\\lib\\site-packages\\pandas\\core\\ops\\common.py:70\u001b[0m, in \u001b[0;36m_unpack_zerodim_and_defer.<locals>.new_method\u001b[1;34m(self, other)\u001b[0m\n\u001b[0;32m     66\u001b[0m             \u001b[38;5;28;01mreturn\u001b[39;00m \u001b[38;5;28mNotImplemented\u001b[39m\n\u001b[0;32m     68\u001b[0m other \u001b[38;5;241m=\u001b[39m item_from_zerodim(other)\n\u001b[1;32m---> 70\u001b[0m \u001b[38;5;28;01mreturn\u001b[39;00m \u001b[43mmethod\u001b[49m\u001b[43m(\u001b[49m\u001b[38;5;28;43mself\u001b[39;49m\u001b[43m,\u001b[49m\u001b[43m \u001b[49m\u001b[43mother\u001b[49m\u001b[43m)\u001b[49m\n",
      "File \u001b[1;32m~\\anaconda3\\envs\\dojo-env\\lib\\site-packages\\pandas\\core\\arraylike.py:60\u001b[0m, in \u001b[0;36mOpsMixin.__ge__\u001b[1;34m(self, other)\u001b[0m\n\u001b[0;32m     58\u001b[0m \u001b[38;5;129m@unpack_zerodim_and_defer\u001b[39m(\u001b[38;5;124m\"\u001b[39m\u001b[38;5;124m__ge__\u001b[39m\u001b[38;5;124m\"\u001b[39m)\n\u001b[0;32m     59\u001b[0m \u001b[38;5;28;01mdef\u001b[39;00m \u001b[38;5;21m__ge__\u001b[39m(\u001b[38;5;28mself\u001b[39m, other):\n\u001b[1;32m---> 60\u001b[0m     \u001b[38;5;28;01mreturn\u001b[39;00m \u001b[38;5;28;43mself\u001b[39;49m\u001b[38;5;241;43m.\u001b[39;49m\u001b[43m_cmp_method\u001b[49m\u001b[43m(\u001b[49m\u001b[43mother\u001b[49m\u001b[43m,\u001b[49m\u001b[43m \u001b[49m\u001b[43moperator\u001b[49m\u001b[38;5;241;43m.\u001b[39;49m\u001b[43mge\u001b[49m\u001b[43m)\u001b[49m\n",
      "File \u001b[1;32m~\\anaconda3\\envs\\dojo-env\\lib\\site-packages\\pandas\\core\\series.py:5623\u001b[0m, in \u001b[0;36mSeries._cmp_method\u001b[1;34m(self, other, op)\u001b[0m\n\u001b[0;32m   5620\u001b[0m rvalues \u001b[38;5;241m=\u001b[39m extract_array(other, extract_numpy\u001b[38;5;241m=\u001b[39m\u001b[38;5;28;01mTrue\u001b[39;00m, extract_range\u001b[38;5;241m=\u001b[39m\u001b[38;5;28;01mTrue\u001b[39;00m)\n\u001b[0;32m   5622\u001b[0m \u001b[38;5;28;01mwith\u001b[39;00m np\u001b[38;5;241m.\u001b[39merrstate(\u001b[38;5;28mall\u001b[39m\u001b[38;5;241m=\u001b[39m\u001b[38;5;124m\"\u001b[39m\u001b[38;5;124mignore\u001b[39m\u001b[38;5;124m\"\u001b[39m):\n\u001b[1;32m-> 5623\u001b[0m     res_values \u001b[38;5;241m=\u001b[39m \u001b[43mops\u001b[49m\u001b[38;5;241;43m.\u001b[39;49m\u001b[43mcomparison_op\u001b[49m\u001b[43m(\u001b[49m\u001b[43mlvalues\u001b[49m\u001b[43m,\u001b[49m\u001b[43m \u001b[49m\u001b[43mrvalues\u001b[49m\u001b[43m,\u001b[49m\u001b[43m \u001b[49m\u001b[43mop\u001b[49m\u001b[43m)\u001b[49m\n\u001b[0;32m   5625\u001b[0m \u001b[38;5;28;01mreturn\u001b[39;00m \u001b[38;5;28mself\u001b[39m\u001b[38;5;241m.\u001b[39m_construct_result(res_values, name\u001b[38;5;241m=\u001b[39mres_name)\n",
      "File \u001b[1;32m~\\anaconda3\\envs\\dojo-env\\lib\\site-packages\\pandas\\core\\ops\\array_ops.py:283\u001b[0m, in \u001b[0;36mcomparison_op\u001b[1;34m(left, right, op)\u001b[0m\n\u001b[0;32m    280\u001b[0m     \u001b[38;5;28;01mreturn\u001b[39;00m invalid_comparison(lvalues, rvalues, op)\n\u001b[0;32m    282\u001b[0m \u001b[38;5;28;01melif\u001b[39;00m is_object_dtype(lvalues\u001b[38;5;241m.\u001b[39mdtype) \u001b[38;5;129;01mor\u001b[39;00m \u001b[38;5;28misinstance\u001b[39m(rvalues, \u001b[38;5;28mstr\u001b[39m):\n\u001b[1;32m--> 283\u001b[0m     res_values \u001b[38;5;241m=\u001b[39m \u001b[43mcomp_method_OBJECT_ARRAY\u001b[49m\u001b[43m(\u001b[49m\u001b[43mop\u001b[49m\u001b[43m,\u001b[49m\u001b[43m \u001b[49m\u001b[43mlvalues\u001b[49m\u001b[43m,\u001b[49m\u001b[43m \u001b[49m\u001b[43mrvalues\u001b[49m\u001b[43m)\u001b[49m\n\u001b[0;32m    285\u001b[0m \u001b[38;5;28;01melse\u001b[39;00m:\n\u001b[0;32m    286\u001b[0m     res_values \u001b[38;5;241m=\u001b[39m _na_arithmetic_op(lvalues, rvalues, op, is_cmp\u001b[38;5;241m=\u001b[39m\u001b[38;5;28;01mTrue\u001b[39;00m)\n",
      "File \u001b[1;32m~\\anaconda3\\envs\\dojo-env\\lib\\site-packages\\pandas\\core\\ops\\array_ops.py:73\u001b[0m, in \u001b[0;36mcomp_method_OBJECT_ARRAY\u001b[1;34m(op, x, y)\u001b[0m\n\u001b[0;32m     71\u001b[0m     result \u001b[38;5;241m=\u001b[39m libops\u001b[38;5;241m.\u001b[39mvec_compare(x\u001b[38;5;241m.\u001b[39mravel(), y\u001b[38;5;241m.\u001b[39mravel(), op)\n\u001b[0;32m     72\u001b[0m \u001b[38;5;28;01melse\u001b[39;00m:\n\u001b[1;32m---> 73\u001b[0m     result \u001b[38;5;241m=\u001b[39m \u001b[43mlibops\u001b[49m\u001b[38;5;241;43m.\u001b[39;49m\u001b[43mscalar_compare\u001b[49m\u001b[43m(\u001b[49m\u001b[43mx\u001b[49m\u001b[38;5;241;43m.\u001b[39;49m\u001b[43mravel\u001b[49m\u001b[43m(\u001b[49m\u001b[43m)\u001b[49m\u001b[43m,\u001b[49m\u001b[43m \u001b[49m\u001b[43my\u001b[49m\u001b[43m,\u001b[49m\u001b[43m \u001b[49m\u001b[43mop\u001b[49m\u001b[43m)\u001b[49m\n\u001b[0;32m     74\u001b[0m \u001b[38;5;28;01mreturn\u001b[39;00m result\u001b[38;5;241m.\u001b[39mreshape(x\u001b[38;5;241m.\u001b[39mshape)\n",
      "File \u001b[1;32m~\\anaconda3\\envs\\dojo-env\\lib\\site-packages\\pandas\\_libs\\ops.pyx:107\u001b[0m, in \u001b[0;36mpandas._libs.ops.scalar_compare\u001b[1;34m()\u001b[0m\n",
      "\u001b[1;31mTypeError\u001b[0m: '>=' not supported between instances of 'str' and 'int'"
     ]
    }
   ],
   "source": [
    "# Keep startYear 2000-2022\n",
    "df_basics= df_basics.loc[(df_basics['startYear'] >=2000) & (df_basics['startYear'] <=2021)]"
   ]
  },
  {
   "cell_type": "code",
   "execution_count": null,
   "id": "5940c810",
   "metadata": {},
   "outputs": [],
   "source": [
    "df_basics.info()"
   ]
  },
  {
   "cell_type": "markdown",
   "id": "0ab23273",
   "metadata": {},
   "source": [
    "Akas Preprocessing"
   ]
  },
  {
   "cell_type": "code",
   "execution_count": 12,
   "id": "773013e2",
   "metadata": {},
   "outputs": [],
   "source": [
    "#Keep only movies that were released in the United States\n",
    "df_akas = df_akas.loc[df_akas['region']=='US']"
   ]
  },
  {
   "cell_type": "code",
   "execution_count": 13,
   "id": "f4bf56c0",
   "metadata": {},
   "outputs": [],
   "source": [
    "# Replace \"\\N\" with np.nan\n",
    "df_akas=df_akas.replace({'\\\\N': np.nan})"
   ]
  },
  {
   "cell_type": "code",
   "execution_count": 14,
   "id": "6203ea18",
   "metadata": {},
   "outputs": [
    {
     "name": "stdout",
     "output_type": "stream",
     "text": [
      "<class 'pandas.core.frame.DataFrame'>\n",
      "Int64Index: 1346925 entries, 5 to 33078856\n",
      "Data columns (total 8 columns):\n",
      " #   Column           Non-Null Count    Dtype \n",
      "---  ------           --------------    ----- \n",
      " 0   titleId          1346925 non-null  object\n",
      " 1   ordering         1346925 non-null  int64 \n",
      " 2   title            1346925 non-null  object\n",
      " 3   region           1346925 non-null  object\n",
      " 4   language         3701 non-null     object\n",
      " 5   types            963801 non-null   object\n",
      " 6   attributes       44851 non-null    object\n",
      " 7   isOriginalTitle  1345550 non-null  object\n",
      "dtypes: int64(1), object(7)\n",
      "memory usage: 92.5+ MB\n"
     ]
    }
   ],
   "source": [
    "df_akas.info()"
   ]
  },
  {
   "cell_type": "markdown",
   "id": "46ea7f3e",
   "metadata": {},
   "source": [
    "Ratings Preprocessing"
   ]
  },
  {
   "cell_type": "code",
   "execution_count": null,
   "id": "178a42d2",
   "metadata": {},
   "outputs": [],
   "source": [
    "# Replace \"\\N\" with np.nan\n",
    "df_ratings = df_ratings.replace({'\\\\N':np.nan})"
   ]
  },
  {
   "cell_type": "code",
   "execution_count": null,
   "id": "65ff2074",
   "metadata": {},
   "outputs": [],
   "source": [
    "#Filtering one dataframe based on another\n",
    "keepers = df_basics['tconst'].isin(df_akas['titleId'])\n",
    "df_basics =df_basics[keepers]\n",
    "df_basics"
   ]
  },
  {
   "cell_type": "code",
   "execution_count": null,
   "id": "5942cb0b",
   "metadata": {},
   "outputs": [],
   "source": [
    "# Make folders for data\n",
    "import os\n",
    "os.makedirs('Data/',exist_ok=True) \n",
    "\n",
    "# Confirm folder created\n",
    "os.listdir(\"Data/\")\n"
   ]
  },
  {
   "cell_type": "code",
   "execution_count": null,
   "id": "466c6079",
   "metadata": {},
   "outputs": [],
   "source": [
    "# Save current dataframe to file\n",
    "df_basics.to_csv(\"Data/title_basics.csv.gz\",compression='gzip',index=False)\n",
    "df_akas.to_csv(\"Data/title_akas.csv.gz\",compression='gzip',index=False)\n",
    "df_ratings.to_csv(\"Data/title_ratings.csv.gz\",compression='gzip',index=False)"
   ]
  },
  {
   "cell_type": "code",
   "execution_count": null,
   "id": "a9cf5306",
   "metadata": {},
   "outputs": [],
   "source": [
    "# Open saved file and preview again\n",
    "df_basics = pd.read_csv(\"Data/title_basics.csv.gz\", low_memory = False)\n",
    "df_basics.head()\n",
    "\n"
   ]
  },
  {
   "cell_type": "code",
   "execution_count": null,
   "id": "ce906225",
   "metadata": {},
   "outputs": [],
   "source": [
    "df_ratings=pd.read_csv(\"Data/title_ratings.csv.gz\", low_memory =False)\n",
    "df_ratings.head()"
   ]
  },
  {
   "cell_type": "code",
   "execution_count": null,
   "id": "8da03cbe",
   "metadata": {},
   "outputs": [],
   "source": [
    "df_akas=pd.read_csv(\"Data/title_akas.csv.gz\",low_memory=False)\n",
    "df_akas.head()"
   ]
  },
  {
   "cell_type": "markdown",
   "id": "7516f4cd",
   "metadata": {},
   "source": [
    "# Part 2"
   ]
  },
  {
   "cell_type": "code",
   "execution_count": null,
   "id": "d7bb98ed",
   "metadata": {},
   "outputs": [],
   "source": [
    "# Open and read file\n",
    "with open('/Users/julia/.secret/tmdb_api.json', 'r') as f:\n",
    "    login = json.load(f)\n",
    "login.keys()"
   ]
  },
  {
   "cell_type": "code",
   "execution_count": null,
   "id": "0970f2ef",
   "metadata": {},
   "outputs": [],
   "source": [
    "tmdb.API_KEY =  login['api-key']"
   ]
  },
  {
   "cell_type": "markdown",
   "id": "b5d085a9",
   "metadata": {},
   "source": [
    "Function below adds the certification (MPGG Rating) to movie.info"
   ]
  },
  {
   "cell_type": "code",
   "execution_count": null,
   "id": "15561c1f",
   "metadata": {},
   "outputs": [],
   "source": [
    "# Code adapted from the LP\n",
    "def get_movie_and_rating(movie_id):    \n",
    "    \n",
    "    movie = tmdb.Movies(movie_id)\n",
    "    movie_info = movie.info()\n",
    "    releases = movie.releases()\n",
    "\n",
    "    for c in releases['countries']:\n",
    "        if c['iso_3166_1' ] =='US':\n",
    "            movie_info['certification'] = c['certification']\n",
    "    return movie_info"
   ]
  },
  {
   "cell_type": "code",
   "execution_count": null,
   "id": "8d933c87",
   "metadata": {},
   "outputs": [],
   "source": [
    "# Test function on these two movies to make sure it runs correctly\n",
    "test = get_movie_and_rating(\"tt0848228\")\n",
    "test"
   ]
  },
  {
   "cell_type": "code",
   "execution_count": null,
   "id": "6f563fa1",
   "metadata": {},
   "outputs": [],
   "source": [
    "test2 = get_movie_and_rating(\"tt0332280\")\n",
    "test2"
   ]
  },
  {
   "cell_type": "code",
   "execution_count": null,
   "id": "c70a3d18",
   "metadata": {},
   "outputs": [],
   "source": [
    "# Create a folder in data for each year\n",
    "FOLDER = \"Data/\"\n",
    "os.makedirs(FOLDER, exist_ok=True)\n",
    "os.listdir(FOLDER)"
   ]
  },
  {
   "cell_type": "code",
   "execution_count": null,
   "id": "4114851c",
   "metadata": {},
   "outputs": [],
   "source": [
    "YEARS_TO_GET =[2000,2001]"
   ]
  },
  {
   "cell_type": "code",
   "execution_count": null,
   "id": "0cd7308e",
   "metadata": {},
   "outputs": [],
   "source": [
    "def write_json(new_data, filename): \n",
    "    \"\"\"Adapted from: https://www.geeksforgeeks.org/append-to-json-file-using-python/\"\"\"    \n",
    "    \n",
    "    with open(filename,'r+') as file:\n",
    "        # First we load existing data into a dict.\n",
    "        file_data = json.load(file)\n",
    "        ## Choose extend or append\n",
    "        if (type(new_data) == list) & (type(file_data) == list):\n",
    "            file_data.extend(new_data)\n",
    "        else:\n",
    "             file_data.append(new_data)\n",
    "        # Sets file's current position at offset.\n",
    "        file.seek(0)\n",
    "        # convert back to json.\n",
    "        json.dump(file_data, file)"
   ]
  },
  {
   "cell_type": "code",
   "execution_count": null,
   "id": "c23600f6",
   "metadata": {},
   "outputs": [],
   "source": [
    "def get_movie_with_rating(movie_id):\n",
    "    # Get the movie object for the current id\n",
    "    movie = tmdb.Movies(movie_id)\n",
    "    # save the .info .releases dictionaries\n",
    "    movie_info = movie.info()\n",
    "    releases = movie.releases()\n",
    "    # Loop through countries in releases\n",
    "    for c in releases['countries']:\n",
    "        # if the country abbreviation==US\n",
    "        if c['iso_3166_1' ] =='US':\n",
    "            ## save a \"certification\" key in the info dict with the certification\n",
    "            movie_info['certification'] = c['certification']\n",
    "    return movie_info"
   ]
  },
  {
   "cell_type": "code",
   "execution_count": null,
   "id": "55dc6a89",
   "metadata": {},
   "outputs": [],
   "source": [
    "# Start of OUTER loop\n",
    "for YEAR in tqdm_notebook(YEARS_TO_GET,desc='YEARS',position=0):\n",
    "    \n",
    "    #Defining the JSON file to store results for year\n",
    "    JSON_FILE = f'{FOLDER}tmdb_api_results_{YEAR}.json'\n",
    "    \n",
    "    # Check if file exists\n",
    "    file_exists = os.path.isfile(JSON_FILE)\n",
    "    \n",
    "    # If it does not exist: create it\n",
    "    if file_exists == False:\n",
    "    # save an empty dict with just \"imdb_id\" to the new json file.\n",
    "        with open(JSON_FILE,'w') as f:\n",
    "            json.dump([{'imdb_id':0}],f)\n",
    "    \n",
    "    #Saving new year as the current df\n",
    "    df = basics.loc[ basics['startYear']==YEAR].copy()\n",
    "    # saving movie ids to list\n",
    "    movie_ids = df['tconst'].copy()#.to_list()\n",
    "    \n",
    "    # Load existing data from json into a dataframe called \"previous_df\"\n",
    "    previous_df = pd.read_json(JSON_FILE)\n",
    "    \n",
    "    # filter out any ids that are already in the JSON_FILE\n",
    "    movie_ids_to_get = movie_ids[~movie_ids.isin(previous_df['imdb_id'])]\n",
    "            \n",
    "            #Get index and movie id from list\n",
    "    # INNER Loop\n",
    "    for movie_id in tqdm_notebook(movie_ids_to_get,\n",
    "                                      desc=f'Movies from {YEAR}',\n",
    "                                      position=1,\n",
    "                                      leave=True):\n",
    "            # Attempt to retrieve then data for the movie id\n",
    "            try:\n",
    "                temp = get_movie_with_rating(movie_id)  #This uses your pre-made function\n",
    "                # Append/extend results to existing file using a pre-made function\n",
    "                write_json(temp,JSON_FILE)\n",
    "                # Short 20 ms sleep to prevent overwhelming server\n",
    "                time.sleep(0.02)\n",
    "\n",
    "            # If it fails,  make a dict with just the id and None for certification.\n",
    "            except Exception as e:\n",
    "                continue\n",
    "\n",
    "    final_year_df = pd.read_json(JSON_FILE)\n",
    "    final_year_df.to_csv(f\"{FOLDER}final_tmdb_data_{YEAR}.csv.gz\", compression=\"gzip\", index=False)"
   ]
  },
  {
   "cell_type": "markdown",
   "id": "21a96e5d",
   "metadata": {},
   "source": [
    "# Part 3"
   ]
  },
  {
   "cell_type": "markdown",
   "id": "87e3aa3b",
   "metadata": {},
   "source": [
    "## **Normalizing Genres**"
   ]
  },
  {
   "cell_type": "code",
   "execution_count": null,
   "id": "fe55ebbb",
   "metadata": {},
   "outputs": [],
   "source": [
    "# Load data again\n",
    "# Load title basics file \n",
    "basics_df = pd.read_csv(\"Data/title_basics.csv.gz\", low_memory = False)\n",
    "\n",
    "# Load title rating file \n",
    "rating_df = pd.read_csv(\"Data/title_ratings.csv.gz\", low_memory = False)\n",
    "\n",
    "# Load in your csv.gz's of results for combined years\n",
    "combined = pd.read_csv(\"Data/tmdb_results_combined.csv.gz\", low_memory = False)"
   ]
  },
  {
   "cell_type": "code",
   "execution_count": null,
   "id": "fa66d177",
   "metadata": {},
   "outputs": [],
   "source": [
    "# Convert the single string of genres from title basics into 2 new tables\n",
    "\n",
    "# create a col with a list of genres\n",
    "basics_df['genres_split'] = basics_df['genres'].str.split(',')\n",
    "basics_df"
   ]
  },
  {
   "cell_type": "code",
   "execution_count": null,
   "id": "0153e049",
   "metadata": {},
   "outputs": [],
   "source": [
    "# exploding the column of lists\n",
    "exploded = basics_df.explode('genres_split')\n",
    "exploded"
   ]
  },
  {
   "cell_type": "code",
   "execution_count": null,
   "id": "25819b56",
   "metadata": {},
   "outputs": [],
   "source": [
    "# saving the unique values from the exploded column\n",
    "unique_genres = sorted(exploded['genres_split'].dropna().unique())\n",
    "unique_genres"
   ]
  },
  {
   "cell_type": "code",
   "execution_count": null,
   "id": "00ce4486",
   "metadata": {},
   "outputs": [],
   "source": [
    "# Create a new title_genres table\n",
    "title_genres = exploded[['tconst','genres_split']].copy()\n",
    "title_genres.head()"
   ]
  },
  {
   "cell_type": "code",
   "execution_count": null,
   "id": "3d740d3c",
   "metadata": {},
   "outputs": [],
   "source": [
    "#  Create a genre mapper dictionary to replace string genres with integers\n",
    "genre_ints = range(len(unique_genres))\n",
    "genre_map = dict(zip(unique_genres, genre_ints))\n",
    "genre_map"
   ]
  },
  {
   "cell_type": "code",
   "execution_count": null,
   "id": "aa79d8a7",
   "metadata": {},
   "outputs": [],
   "source": [
    "# Create a new genre_id column using the genre_map dictionary with either .map or .replace.\n",
    "title_genres['genre_id'] = title_genres['genres_split'].map(genre_map)\n",
    "\n",
    "title_genres = title_genres.drop(columns='genres_split')\n",
    "title_genres"
   ]
  },
  {
   "cell_type": "code",
   "execution_count": null,
   "id": "a67ac3bd",
   "metadata": {},
   "outputs": [],
   "source": [
    "# Convert the genre map dictionary into a dataframe\n",
    "genre = pd.DataFrame({'Genre_Name' : genre_map.keys(),\n",
    "                     'Genre_Id': genre_map.values()})\n",
    "genre.head()"
   ]
  },
  {
   "cell_type": "code",
   "execution_count": null,
   "id": "537c2f67",
   "metadata": {},
   "outputs": [],
   "source": [
    " # Extract certain columns\n",
    "tmdb = combined[['imdb_id','budget','revenue', 'certification']]\n",
    "tmdb"
   ]
  },
  {
   "cell_type": "markdown",
   "id": "9be876c3",
   "metadata": {},
   "source": [
    "## **Discard unnecessary information**"
   ]
  },
  {
   "cell_type": "code",
   "execution_count": null,
   "id": "56d192d5",
   "metadata": {},
   "outputs": [],
   "source": [
    "# Drop following columns\n",
    "basics_df = basics_df.drop(['originalTitle','isAdult', 'titleType','genres','genres_split'], axis = 1)\n",
    "basics_df"
   ]
  },
  {
   "cell_type": "markdown",
   "id": "73990584",
   "metadata": {},
   "source": [
    "## **MySQL Database**"
   ]
  },
  {
   "cell_type": "code",
   "execution_count": null,
   "id": "c254817e",
   "metadata": {},
   "outputs": [],
   "source": [
    "# loading mysql credentials\n",
    "with open('/Users/julia/.secret/mysql.json') as f:\n",
    "    login =json.load(f)\n",
    "login.keys"
   ]
  },
  {
   "cell_type": "code",
   "execution_count": null,
   "id": "b87a7401",
   "metadata": {},
   "outputs": [],
   "source": [
    "# Make connection string\n",
    "connection_str= f\"mysql+pymysql://{login['Login Name']}:{login['password']}@localhost/movies\"\n",
    "engine= create_engine(connection_str)"
   ]
  },
  {
   "cell_type": "code",
   "execution_count": null,
   "id": "7a976d77",
   "metadata": {},
   "outputs": [],
   "source": [
    "# create database\n",
    "create_database(connection_str)"
   ]
  },
  {
   "cell_type": "code",
   "execution_count": null,
   "id": "49805a89",
   "metadata": {},
   "outputs": [],
   "source": [
    "# Transform to tables\n",
    "basics_df.to_sql('title_basics', engine, if_exists = 'replace')\n",
    "rating_df.to_sql('title_rating', engine, if_exists = 'replace')\n",
    "title_genres.to_sql('title_genres', engine, if_exists = 'replace')\n",
    "genre.to_sql('genres', engine, if_exists = 'replace')\n",
    "tmdb.to_sql('tmdb_data', engine, if_exists = 'replace')"
   ]
  },
  {
   "cell_type": "markdown",
   "id": "606ea988",
   "metadata": {},
   "source": [
    "**Set primary key for title_basics tables**"
   ]
  },
  {
   "cell_type": "code",
   "execution_count": null,
   "id": "c9681e7e",
   "metadata": {},
   "outputs": [],
   "source": [
    "## Example\n",
    "from sqlalchemy.types import *\n",
    "## Calculate max string lengths for object columns\n",
    "key_len = basics_df['tconst'].fillna('').map(len).max()\n",
    "title_len = basics_df['primaryTitle'].fillna('').map(len).max()\n",
    "## Create a schema dictonary using Sqlalchemy datatype objects\n",
    "df_schema = {\n",
    "    \"tconst\": String(key_len+1), \n",
    "    \"primaryTitle\": Text(title_len+1),\n",
    "    'startYear':Float(),\n",
    "    'endYear':Float(),\n",
    "    'runtimeMinutes':Integer()}\n"
   ]
  },
  {
   "cell_type": "code",
   "execution_count": null,
   "id": "99128d42",
   "metadata": {},
   "outputs": [],
   "source": [
    "# Save to sql with dtype and index=False\n",
    "basics_df.to_sql('title_basics',engine,dtype=df_schema,if_exists='replace',index=False)"
   ]
  },
  {
   "cell_type": "code",
   "execution_count": null,
   "id": "fa42f9f3",
   "metadata": {},
   "outputs": [],
   "source": [
    "engine.execute('ALTER TABLE title_basics ADD PRIMARY KEY (`tconst`);')"
   ]
  },
  {
   "cell_type": "code",
   "execution_count": null,
   "id": "144f38ea",
   "metadata": {},
   "outputs": [],
   "source": [
    "# show the first 5 rows of the table using a SQL query\n",
    "q = \"\"\"\n",
    "SELECT *\n",
    "FROM title_basics\n",
    "LIMIT 5;\"\"\"\n",
    "pd.read_sql(q, engine)"
   ]
  },
  {
   "cell_type": "markdown",
   "id": "bd4ba6e7",
   "metadata": {},
   "source": [
    "**Set primary key for ratings tables**"
   ]
  },
  {
   "cell_type": "code",
   "execution_count": null,
   "id": "3d4877d4",
   "metadata": {},
   "outputs": [],
   "source": [
    "# Calculate max string lengths for object columns\n",
    "key_len = rating['tconst'].fillna('').map(len).max()\n",
    "\n",
    "## Create a schema dictonary using Sqlalchemy datatype objects\n",
    "df_2 = {\n",
    "    \"tconst\": String(key_len+1),\n",
    "    'averageRating':Float(),\n",
    "    'numVotes':Integer()}"
   ]
  },
  {
   "cell_type": "code",
   "execution_count": null,
   "id": "0fa6052e",
   "metadata": {},
   "outputs": [],
   "source": [
    "# Save to sql with dtype and index=False\n",
    "rating.to_sql('title_rating',engine,dtype=df_2,if_exists='replace',index=False)"
   ]
  },
  {
   "cell_type": "code",
   "execution_count": null,
   "id": "4c0f1f7c",
   "metadata": {},
   "outputs": [],
   "source": [
    "# update the table and set the primary key\n",
    "engine.execute('ALTER TABLE title_rating ADD PRIMARY KEY (`tconst`);')"
   ]
  },
  {
   "cell_type": "code",
   "execution_count": null,
   "id": "d468b0db",
   "metadata": {},
   "outputs": [],
   "source": [
    "# show the first 5 rows of the table using a SQL query\n",
    "q = \"\"\"\n",
    "SELECT *\n",
    "FROM title_rating\n",
    "LIMIT 5;\"\"\"\n",
    "pd.read_sql(q, engine)"
   ]
  },
  {
   "cell_type": "markdown",
   "id": "0c4fbb12",
   "metadata": {},
   "source": [
    "**Set primary key for genre tables**"
   ]
  },
  {
   "cell_type": "code",
   "execution_count": null,
   "id": "d6181372",
   "metadata": {},
   "outputs": [],
   "source": [
    "# Set the dataframe index and use index=True \n",
    "genre.set_index('Genre_Id').to_sql('genres',engine,index=True, if_exists = 'replace')"
   ]
  },
  {
   "cell_type": "code",
   "execution_count": null,
   "id": "6439ad14",
   "metadata": {},
   "outputs": [],
   "source": [
    "# show the first 5 rows of the table using a SQL query\n",
    "q = \"\"\"\n",
    "SELECT *\n",
    "FROM genres\n",
    "LIMIT 5;\"\"\"\n",
    "pd.read_sql(q, engine)"
   ]
  },
  {
   "cell_type": "markdown",
   "id": "31fe6b2e",
   "metadata": {},
   "source": [
    "**Set primary key for tmdb tables**"
   ]
  },
  {
   "cell_type": "code",
   "execution_count": null,
   "id": "0120d532",
   "metadata": {},
   "outputs": [],
   "source": [
    "# Calculate max string lengths for object columns\n",
    "key_len = tmdb['imdb_id'].fillna('').map(len).max()\n",
    "cert_len = tmdb['certification'].fillna('').map(len).max()\n",
    "\n",
    "## Create a schema dictonary using Sqlalchemy datatype objects\n",
    "df_3 = {\n",
    "    \"imdb_id\": String(key_len+1),\n",
    "    'budget':Float(),\n",
    "    'revenue':Float(),\n",
    "    \"certification\":Text(cert_len+1)}"
   ]
  },
  {
   "cell_type": "code",
   "execution_count": null,
   "id": "d0ef30dd",
   "metadata": {},
   "outputs": [],
   "source": [
    "# Save to sql with dtype and index=False\n",
    "tmdb.to_sql('tmdb_data',engine,dtype=df_3,if_exists='replace',index=False)"
   ]
  },
  {
   "cell_type": "code",
   "execution_count": null,
   "id": "b7f3a567",
   "metadata": {},
   "outputs": [],
   "source": [
    "# update the table and set the primary key\n",
    "engine.execute('ALTER TABLE tmdb_data ADD PRIMARY KEY (`imdb_id`);')"
   ]
  },
  {
   "cell_type": "code",
   "execution_count": null,
   "id": "ae19b109",
   "metadata": {},
   "outputs": [],
   "source": [
    "# show the first 5 rows of the table using a SQL query\n",
    "q = \"\"\"\n",
    "SELECT *\n",
    "FROM tmdb_data\n",
    "LIMIT 5;\"\"\"\n",
    "pd.read_sql(q, engine)"
   ]
  },
  {
   "cell_type": "code",
   "execution_count": null,
   "id": "b6805993",
   "metadata": {},
   "outputs": [],
   "source": [
    "# Show all tables\n",
    "q = \"\"\"SHOW TABLES;\"\"\"\n",
    "pd.read_sql(q, engine)"
   ]
  }
 ],
 "metadata": {
  "kernelspec": {
   "display_name": "Python (dojo-env)",
   "language": "python",
   "name": "dojo-env"
  },
  "language_info": {
   "codemirror_mode": {
    "name": "ipython",
    "version": 3
   },
   "file_extension": ".py",
   "mimetype": "text/x-python",
   "name": "python",
   "nbconvert_exporter": "python",
   "pygments_lexer": "ipython3",
   "version": "3.8.13"
  },
  "toc": {
   "base_numbering": 1,
   "nav_menu": {},
   "number_sections": false,
   "sideBar": true,
   "skip_h1_title": false,
   "title_cell": "Table of Contents",
   "title_sidebar": "Contents",
   "toc_cell": false,
   "toc_position": {},
   "toc_section_display": true,
   "toc_window_display": false
  }
 },
 "nbformat": 4,
 "nbformat_minor": 5
}
