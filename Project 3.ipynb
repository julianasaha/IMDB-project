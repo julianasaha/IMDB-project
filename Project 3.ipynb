{
 "cells": [
  {
   "cell_type": "markdown",
   "id": "06d93fea",
   "metadata": {},
   "source": [
    "# IMDB Project 3\n",
    "- Juliana Sahagun\n",
    "- 08/17/22"
   ]
  },
  {
   "cell_type": "code",
   "execution_count": 7,
   "id": "883d80a8",
   "metadata": {},
   "outputs": [],
   "source": [
    "# Import libraries\n",
    "import pandas as pd\n",
    "import numpy as np\n"
   ]
  },
  {
   "cell_type": "code",
   "execution_count": 8,
   "id": "0aab41d9",
   "metadata": {},
   "outputs": [],
   "source": [
    "# Download files\n",
    "basics_url= \"https://datasets.imdbws.com/title.basics.tsv.gz\"\n",
    "ratings_url= \"https://datasets.imdbws.com/title.basics.tsv.gz\"\n",
    "akas_url= \"https://datasets.imdbws.com/title.akas.tsv.gz\""
   ]
  },
  {
   "cell_type": "code",
   "execution_count": null,
   "id": "02f5a9b4",
   "metadata": {},
   "outputs": [],
   "source": [
    "# Loading the data\n",
    "basics = pd.read_csv(basics_url,sep='\\t', low_memory=False)\n",
    "ratings= pd.read_csv(ratings_url,sep='\\t', low_memory=False)\n",
    "akas= pd.read_csv(akas_url, sep='\\t', low_memory=False)\n"
   ]
  },
  {
   "cell_type": "code",
   "execution_count": null,
   "id": "58fc7cad",
   "metadata": {},
   "outputs": [],
   "source": [
    "basics.head()"
   ]
  },
  {
   "cell_type": "code",
   "execution_count": null,
   "id": "5c03ced6",
   "metadata": {},
   "outputs": [],
   "source": [
    "ratings.head()"
   ]
  },
  {
   "cell_type": "code",
   "execution_count": null,
   "id": "65d6b32a",
   "metadata": {},
   "outputs": [],
   "source": [
    "akas.head()"
   ]
  },
  {
   "cell_type": "markdown",
   "id": "87aea619",
   "metadata": {},
   "source": [
    "## Cleaning/Filtering"
   ]
  },
  {
   "cell_type": "markdown",
   "id": "7a374afc",
   "metadata": {},
   "source": [
    "Basics Preprocessing"
   ]
  },
  {
   "cell_type": "code",
   "execution_count": null,
   "id": "d74a7597",
   "metadata": {},
   "outputs": [],
   "source": [
    "# Replace \"\\N\" with np.nan\n",
    "basics_df = basics_df.replace({'\\\\N':np.nan})"
   ]
  },
  {
   "cell_type": "code",
   "execution_count": null,
   "id": "0c20cff5",
   "metadata": {},
   "outputs": [],
   "source": [
    "# Remove movies having missing values for runtimeMinutes\n"
   ]
  },
  {
   "cell_type": "code",
   "execution_count": null,
   "id": "6da84928",
   "metadata": {},
   "outputs": [],
   "source": [
    "# Remove movies that have missing values for genre"
   ]
  },
  {
   "cell_type": "code",
   "execution_count": null,
   "id": "60b1aef0",
   "metadata": {},
   "outputs": [],
   "source": [
    "# Include only full-length movies (titleType = \"movie\")"
   ]
  },
  {
   "cell_type": "code",
   "execution_count": null,
   "id": "a1b3e85e",
   "metadata": {},
   "outputs": [],
   "source": [
    "# Eliminate movies that include \"Documentary\" in genre"
   ]
  },
  {
   "cell_type": "code",
   "execution_count": null,
   "id": "9481afb2",
   "metadata": {},
   "outputs": [],
   "source": [
    "# Keep startYear 2000-2022"
   ]
  },
  {
   "cell_type": "markdown",
   "id": "0ab23273",
   "metadata": {},
   "source": [
    "Akas Preprocessing"
   ]
  },
  {
   "cell_type": "code",
   "execution_count": null,
   "id": "f4bf56c0",
   "metadata": {},
   "outputs": [],
   "source": [
    "# Replace \"\\N\" with np.nan"
   ]
  },
  {
   "cell_type": "code",
   "execution_count": null,
   "id": "773013e2",
   "metadata": {},
   "outputs": [],
   "source": [
    "#Keep only movies that were released in the United States"
   ]
  },
  {
   "cell_type": "markdown",
   "id": "46ea7f3e",
   "metadata": {},
   "source": [
    "Ratings Preprocessing"
   ]
  },
  {
   "cell_type": "code",
   "execution_count": null,
   "id": "178a42d2",
   "metadata": {},
   "outputs": [],
   "source": [
    "# Replace \"\\N\" with np.nan"
   ]
  },
  {
   "cell_type": "code",
   "execution_count": null,
   "id": "65ff2074",
   "metadata": {},
   "outputs": [],
   "source": []
  }
 ],
 "metadata": {
  "kernelspec": {
   "display_name": "Python (dojo-env)",
   "language": "python",
   "name": "dojo-env"
  },
  "language_info": {
   "codemirror_mode": {
    "name": "ipython",
    "version": 3
   },
   "file_extension": ".py",
   "mimetype": "text/x-python",
   "name": "python",
   "nbconvert_exporter": "python",
   "pygments_lexer": "ipython3",
   "version": "3.8.13"
  },
  "toc": {
   "base_numbering": 1,
   "nav_menu": {},
   "number_sections": false,
   "sideBar": true,
   "skip_h1_title": false,
   "title_cell": "Table of Contents",
   "title_sidebar": "Contents",
   "toc_cell": false,
   "toc_position": {},
   "toc_section_display": true,
   "toc_window_display": false
  }
 },
 "nbformat": 4,
 "nbformat_minor": 5
}
